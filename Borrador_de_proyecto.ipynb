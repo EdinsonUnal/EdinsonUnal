{
  "nbformat": 4,
  "nbformat_minor": 0,
  "metadata": {
    "colab": {
      "provenance": [],
      "toc_visible": true,
      "include_colab_link": true
    },
    "kernelspec": {
      "name": "python3",
      "display_name": "Python 3"
    },
    "language_info": {
      "name": "python"
    }
  },
  "cells": [
    {
      "cell_type": "markdown",
      "metadata": {
        "id": "view-in-github",
        "colab_type": "text"
      },
      "source": [
        "<a href=\"https://colab.research.google.com/github/edinsonescobarunal/EdinsonUnal/blob/main/Borrador_de_proyecto.ipynb\" target=\"_parent\"><img src=\"https://colab.research.google.com/assets/colab-badge.svg\" alt=\"Open In Colab\"/></a>"
      ]
    },
    {
      "cell_type": "markdown",
      "source": [
        "# Informe final IO I 2023-01\n",
        "\n",
        "Diligencia las casillas indicadas.\n",
        "\n",
        "**No modifique la estructura del archivo.**\n",
        "\n",
        "Plantee y resuelva el problema utilizando [CVXPY](https://www.cvxpy.org/).\n",
        "\n",
        "El código debe ser legible e incluir comentarios. Se recomienda utilizar la guía [PEP 8 – Style Guide for Python Code](https://peps.python.org/pep-0008/)."
      ],
      "metadata": {
        "id": "xEXkvK0O0LJe"
      }
    },
    {
      "cell_type": "markdown",
      "source": [
        "# Integrantes del equipo que participaron en la elaboración del informe\n",
        "\n",
        "Escriba, a continuación, los nombres y los apellidos de las personas que hayan **participado de manera significativa** en la elaboración del informe.\n",
        "\n",
        "1.Sebastian Calero Angulo   \n",
        "2.Ever José Teherán Herrera   \n",
        "3.Edinson Alexander Escobar Matamba "
      ],
      "metadata": {
        "id": "wnCTxb6i0e6N"
      }
    },
    {
      "cell_type": "markdown",
      "source": [
        "# Objetivo del proyecto\n",
        "\n",
        "¿Qué van a minimizar o qué van a maximizar y en qué unidades se mide?"
      ],
      "metadata": {
        "id": "9fLgajWc2IYU"
      }
    },
    {
      "cell_type": "markdown",
      "source": [
        "Maximizar el turismo de Italia y Francia entre sí durante 5 días en semana santa (miércoles, jueves, viernes, sábado y domingo) debido a que es un tiempo en el que muchas personas viajan a distintos destinos. \n",
        "\n"
      ],
      "metadata": {
        "id": "QlB9YC282ngL"
      }
    },
    {
      "cell_type": "markdown",
      "source": [
        "# Importante:\n",
        "Los conjuntos de datos correspondientes a coeficientes de costos, coeficientes técnicos y restricciones deben ser leídos desde urls.\n",
        "\n",
        "Sugerencia: suba los datasets a Googledrive y luego publíquelos como página web. El siguiente enlace le indica cómo hacerlo: [Cómo publicar archivos de Documentos, Hojas de cálculo, Presentaciones y Formularios de Google](https://support.google.com/docs/answer/183965?hl=es-419&co=GENIE.Platform%3DDesktop).\n",
        "\n",
        "Nota: si lo desea puede utilizar otro método para obtener las urls de los conjuntos de datos."
      ],
      "metadata": {
        "id": "Qa8SyhOR6sMB"
      }
    },
    {
      "cell_type": "markdown",
      "source": [
        "# Preparación del ejercicio"
      ],
      "metadata": {
        "id": "nHnpwNeq7ebB"
      }
    },
    {
      "cell_type": "code",
      "source": [
        "# Escriba acá el código para importar las librerías requeridas\n",
        "import cvxpy as cvx\n",
        "import numpy as np\n",
        "import pandas as pd\n",
        "\n"
      ],
      "metadata": {
        "id": "8obDvj_b78eQ"
      },
      "execution_count": null,
      "outputs": []
    },
    {
      "cell_type": "markdown",
      "source": [
        "# Variables de decisión\n",
        "¿Cuáles son las variables de decisión y cuáles son sus unidades de medida?"
      ],
      "metadata": {
        "id": "QGy27SoU2uW0"
      }
    },
    {
      "cell_type": "markdown",
      "source": [
        "X_fim1: Personas que viajan de Francia a Italia el miércoles y alquilan para 1 día\n",
        "\n",
        "X_fim2 : Personas que viajan de Francia a Italia el miércoles y alquilan para 2 días \n",
        "\n",
        "X_fim3 : Personas que viajan de Francia a Italia el miércoles y alquilan para 3 días\n",
        "\n",
        "X_fim4 : Personas que viajan de Francia a Italia el miércoles y alquilan para 4 días \n",
        "\n",
        "X_fim5 : Personas que viajan de Francia a Italia el miércoles y alquilan para 5 días\n",
        "\n",
        "X_fij1 : Personas que viajan de Francia a Italia el jueves y alquilan para 1 día \n",
        "\n",
        "X_fij2 : Personas que viajan de Francia a Italia el jueves y alquilan para 2 días\n",
        "\n",
        "X_fij3 : Personas que viajan de Francia a Italia el jueves y alquilan para 3 días \n",
        "\n",
        "X_fij4 : Personas que viajan de Francia a Italia el jueves y alquilan para 4 días\n",
        "\n",
        "X_fiv1 : Personas que viajan de Francia a Italia el viernes y alquilan para 1 día\n",
        "\n",
        "X_fiv2 : Personas que viajan de Francia a Italia el viernes y alquilan para 2 días \n",
        "\n",
        "X_fiv3 : Personas que viajan de Francia a Italia el viernes y alquilan para 3 días \n",
        "\n",
        "X_fis1 : Personas que viajan de Francia a Italia el sábado y alquilan para 1 día\n",
        "\n",
        "X_fis2 : Personas que viajan de Francia a Italia el sábado y alquilan para 2 días\n",
        "\n",
        "X_fid1 : Personas que viajan de Francia a Italia el domingo y alquilan para 1 día\n",
        "\n",
        "X_ifm1 Personas que viajan de Italia a Francia el miércoles y alquilan para 1 día \n",
        "\n",
        "X_ifm2 : Personas que viajan de Italia a Francia el miércoles y alquilan para 2 días \n",
        "\n",
        "X_ifm3 : Personas que viajan de Italia a Francia el miércoles y alquilan para 3 días\n",
        "\n",
        "X_ifm4 : Personas que viajan de Italia a Francia el miércoles y alquilan para 4 días \n",
        "\n",
        "X_ifm5 : Personas que viajan de Italia a Francia el miércoles y alquilan para 5 días\n",
        "\n",
        "X_ifj1 : Personas que viajan de Italia a Francia el jueves y alquilan para 1 día \n",
        "\n",
        "X_ifj2 : Personas que viajan de Italia a Francia el jueves y alquilan para 2 días\n",
        "\n",
        "X_ifj3 : Personas que viajan de Italia a Francia el jueves y alquilan para 3 días \n",
        "\n",
        "X_ifj4 : Personas que viajan de Italia a Francia el jueves y alquilan para 4 días\n",
        "\n",
        "X_ifv1 : Personas que viajan de Italia a Francia el viernes y alquilan para 1 día\n",
        "\n",
        "X_ifv2 : Personas que viajan de Italia a Francia el viernes y alquilan para 2 días \n",
        "\n",
        "X_ifv3 : Personas que viajan de Italia a Francia el viernes y alquilan para 3 días  \n",
        "\n",
        "X_ifs1 : Personas que viajan de Italia a Francia el sábado y alquilan para 1 día\n",
        "\n",
        "X_ifs2 : Personas que viajan de Italia a Francia el sábado y alquilan para 2 días\n",
        "\n",
        "X_ifd1: Personas que viajan de Italia a Francia el domingo y alquilan para 1 día\n",
        "\n",
        "Unidad de medida: Número de personas \n",
        "\n",
        "\n"
      ],
      "metadata": {
        "id": "6rsg46CV3ZGk"
      }
    },
    {
      "cell_type": "code",
      "source": [
        "# Código para crear las variables de decisión\n",
        "arr_pers_x = cvx.Variable((30,1))\n"
      ],
      "metadata": {
        "id": "lhlFKyIP8lBI"
      },
      "execution_count": null,
      "outputs": []
    },
    {
      "cell_type": "markdown",
      "source": [
        "# Coeficientes de costos\n",
        "\n",
        "¿Cuáles son los coeficientes de costos y cuáles sus unidades de medida?"
      ],
      "metadata": {
        "id": "nfkjPzO11-mQ"
      }
    },
    {
      "cell_type": "markdown",
      "source": [
        "Los coeficientes de costos para nuestro problema son 1 "
      ],
      "metadata": {
        "id": "bYxmrgvxG8Qb"
      }
    },
    {
      "cell_type": "code",
      "source": [
        "# Código para cargar los coeficientes de costos\n",
        "arr_pers_c = cvx.Parameter((30,1))\n",
        "\n",
        "# ruta de los coeficientes de costos  \n",
        "ruta = \"https://docs.google.com/spreadsheets/d/e/2PACX-1vS25mFQ9MXMPbybULpLBuTSlYBe42Vap_ZGq6pdBbnxrtgMY3COj0yuNmtQVBtlxSQW_MBKCzBow-eV/pub?output=csv\"\n",
        "\n",
        "# Carga del conjunto de datos a partir de la ruta \n",
        "arr_pers_c = np.loadtxt(ruta, delimiter=\",\", dtype=float)\n",
        "\n",
        "# Imprimir los coeficientes de costos \n",
        "print(\"Los coeficientes de costos son: \\n\", arr_pers_c, \"\\n\")\n"
      ],
      "metadata": {
        "id": "RGx6Z7Fw32fW",
        "colab": {
          "base_uri": "https://localhost:8080/"
        },
        "outputId": "deba1cd8-19a2-4d8b-e8ec-e5b60a948845"
      },
      "execution_count": null,
      "outputs": [
        {
          "output_type": "stream",
          "name": "stdout",
          "text": [
            "Los coeficientes de costos son: \n",
            " [1. 1. 1. 1. 1. 1. 1. 1. 1. 1. 1. 1. 1. 1. 1. 1. 1. 1. 1. 1. 1. 1. 1. 1.\n",
            " 1. 1. 1. 1. 1. 1.] \n",
            "\n"
          ]
        }
      ]
    },
    {
      "cell_type": "markdown",
      "source": [
        "# Función objetivo"
      ],
      "metadata": {
        "id": "RotGELTj4AMV"
      }
    },
    {
      "cell_type": "code",
      "source": [
        "# Código para crear la función objetivo \n",
        "obj_turismo = cvx.Maximize(arr_pers_c @ arr_pers_x)\n"
      ],
      "metadata": {
        "id": "7YSu06Ws4EK6"
      },
      "execution_count": null,
      "outputs": []
    },
    {
      "cell_type": "markdown",
      "source": [
        "# Coeficientes técnicos\n",
        "\n",
        "Los coeficientes tecnicos para nuestro problema son 1 (Para las variables que aparecen en las restricciones), -1(Para las restricciones de no negatividad) y 0(Para las variables que no aparecen en las restricciones). \n",
        "\n",
        "Unidad de medida de los coeficientes tecnicos de las restricciones camas/personas"
      ],
      "metadata": {
        "id": "rRG9t0W-4PD1"
      }
    },
    {
      "cell_type": "markdown",
      "source": [
        "### Escriba acá los coeficientes técnicos con sus correspondientes unidades de medida\n"
      ],
      "metadata": {
        "id": "M7TTJG1jHLEs"
      }
    },
    {
      "cell_type": "code",
      "source": [
        "# Código para cargar los coeficientes técnicos\n",
        "arr_pers_A = cvx.Parameter((40,30))\n",
        "\n",
        "# Ruta de los coeficientes tecnicos\n",
        "ruta_1 = \"https://docs.google.com/spreadsheets/d/e/2PACX-1vSpLmvv_19sgBu9YnwOiBOqnccmaMSocINbVL9VM0klkieamP3hCF67QQY7XArMJBuvAjn-SNZLICvS/pub?output=csv\"\n",
        "\n",
        "# Carga del conjunto de datos a partir de la ruta de los coeficientes tecnicos\n",
        "arr_pers_A = np.loadtxt(ruta_1, delimiter=\",\", dtype=float)\n",
        "\n",
        "# Imprimir coeficientes tecnicos\n",
        "print(\"Los coeficientes técnicos son: \\n\", arr_pers_A, \"\\n\")\n",
        "\n",
        "\n"
      ],
      "metadata": {
        "id": "Zs1HUvPk4Wv4",
        "colab": {
          "base_uri": "https://localhost:8080/"
        },
        "outputId": "bdc652e5-c10d-48e7-de9b-30d9108f14ec"
      },
      "execution_count": null,
      "outputs": [
        {
          "output_type": "stream",
          "name": "stdout",
          "text": [
            "Los coeficientes técnicos son: \n",
            " [[ 1.  1.  1. ...  0.  0.  0.]\n",
            " [ 0.  1.  1. ...  0.  0.  0.]\n",
            " [ 0.  0.  1. ...  0.  0.  0.]\n",
            " ...\n",
            " [ 0.  0.  0. ... -1.  0.  0.]\n",
            " [ 0.  0.  0. ...  0. -1.  0.]\n",
            " [ 0.  0.  0. ...  0.  0. -1.]] \n",
            "\n"
          ]
        }
      ]
    },
    {
      "cell_type": "markdown",
      "source": [
        "# Restricciones\n",
        "\n",
        "¿Cuáles son las restricciones y cuáles son sus unidades de medida?"
      ],
      "metadata": {
        "id": "XlrmY9rM4f2Y"
      }
    },
    {
      "cell_type": "markdown",
      "source": [
        "NOTA: \n",
        "Los coeficientes técnicos para todas las restricciones son 1 y su unidad de medida es camas/personas. \n",
        "Las camas ofrecidas anualmente en Francia son 5.058.665 y en Italia 5.120.175 (El lado derecho en cada restricción se obtienen dividiendo el numero total de camas ofrecidas anualmente entre 365 para saber cuantas camas se ofrecen diariamente) \n",
        "De acuerdo al punto anterior para Italia: 5.120.175/365=14027,9 y para Francia: 5.058.665/365=13859,4\n",
        "\n",
        "Restricción del miércoles en Italia: Las personas que viajan de Francia a Italia el miércoles deben ser menor o igual al número total de hospedajes por día de Italia. Así queda la restricción:\n",
        "X_fim1 + X_fim2 + X_fim3 + X_fim4 + X_fim5 <= 14027\n",
        "(Se mide en número de camas)\n",
        "\n",
        "Restricción del jueves en Italia: Las personas que viajan de Francia a Italia el jueves más las personas que viajan el miércoles y se quedan 2, 3, 4 o 5 días deben ser menor o igual a el número total de hospedajes por día de Italia. Así queda la restricción: \n",
        " (X_fij1 + X_fij2 + X_fij3 + X_fij4) + ( X_fim2 + X_fim3 + X_fim4 + X_fim5) <= 14027\n",
        "(Se mide en número de camas)\n",
        "\n",
        "Restricción del viernes en Italia: Las personas que viajan de Francia a Italia el sábado más las personas que viajan el miércoles y se quedan 3, 4 o 5 días y las personas que viajan el jueves y se quedan 2, 3 o 4 deben ser menor o igual a el número total de hospedajes por día de Italia. Así queda la restricción:\n",
        "(X_fiv1 + X_fiv2 + X_fiv3 ) + (X_fim3 + X_fim4 + X_fim5) + (X_fij2 + X_fij3 + X_fij4) <= 14027\n",
        "(Se mide en número de camas)\n",
        "\n",
        "Restricción del sábado en Italia: Las personas que viajan de Francia a Italia el sábado más las personas que viajan el miércoles y se quedan 4 o 5 días, las personas que viajan el jueves y se quedan 3 o 4 y las personas que viajan el viernes y se quedan 2 o 3 deben ser menor o igual a el número total de hospedajes por día de Italia. Así queda la restricción:\n",
        "(X_fis1 + X_fis2) + (X_fim4 + X_fim5) + (X_fij3 + X_fij4) + (X_fiv2 + X_fiv3) <= 14027\n",
        "(Se mide en número de camas)\n",
        "\n",
        "Restricción del domingo en Italia: Las personas que viajan de Francia a Italia el domingo más las personas que viajan el miércoles y se quedan 5 días, las personas que viajan el jueves y se quedan 4, las personas que viajan el viernes y se queda 3 y las personas que viajan el sábado y se quedan 2 deben ser menor o igual a el número total de hospedajes por día de Italia. Así queda la restricción:\n",
        "(X_fid1) + (X_fim5) + (X_fij4) + (X_fiv3) + (X_fis2) <= 13859\n",
        "(Se mide en número de camas)\n",
        "\n",
        "Restricción del miércoles en Francia: Las personas que viajan de Italia a Francia el miércoles deben ser menor o igual al número total de hospedajes de Francia por día. Así queda la restricción:\n",
        " X_ifm1 + X_ifm2 + X_ifm3 + X_ifm4 + X_ifm5 <= 13859\n",
        "(Se mide en número de camas)\n",
        "\n",
        "Restricción del jueves en Francia: Las personas que viajan de Italia a Francia el jueves más las personas que viajan el miércoles y se quedan 2, 3, 4 o 5 días deben ser menor o igual a el número total de hospedajes por día en Francia. Así queda la restricción:\n",
        "(X_ifj1 + X_ifj2 + X_ifj3 + X_ifj4) + ( X_ifm2 + X_ifm3 + X_ifm4 + X_ifm5) <= 13859\n",
        "(Se mide en número de camas)\n",
        "\n",
        "Restricción del viernes en Francia: Las personas que viajan de Italia a Francia el viernes más las personas que viajan el miércoles y se quedan 3, 4 o 5 días y las personas que viajan el jueves y se quedan 2, 3 o 4 deben ser menor o igual a el número total de hospedajes por día de Francia. Así queda la restricción:\n",
        "( X_ifv1 + X_ifv2 + X_ifv3) + (X_ifm3 + X_ifm4 + X_ifm5) + (+ X_ifj2 + X_ifj3 + X_ifj4) <= 13859\n",
        "(Se mide en número de camas)\n",
        "\n",
        "Restricción del sábado en Francia: Las personas que viajan de Italia a Francia el sábado más las personas que viajan el miércoles y se quedan 4 o 5 días, las personas que viajan el jueves y se quedan 3 o 4 y las personas que viajan el viernes y se quedan 2 o 3 deben ser menor o igual a el número total de hospedajes por día de Francia. Así queda la restricción:\n",
        "(X_ifs1 + X_ifs2) + (X_ifm4 + X_ifm5) + (X_ifj3 + X_ifj4) + (X_ifv2 + X_ifv3) <= 13859\n",
        "(Se mide en número de camas)\n",
        "\n",
        "Restricción del domingo en Francia: Las personas que viajan de Italia a Francia el domingo más las personas que viajan el miércoles y se quedan 5 días, las personas que viajan el jueves y se quedan 4, las personas que viajan el viernes y se queda 3 y las personas que viajan en el sábado y se quedan 2 deben ser menor o igual a el número total de hospedajes por día de Francia. Así queda la restricción:\n",
        "( X_ifd1) + (X_ifm5) + (X_ifj4) + (X_ifv3) + (X_ifs2) <= 13859\n",
        "(Se mide en número de camas)\n",
        "\n",
        "Otras restricciones (no negatividad, enteros, binarios) \n",
        "Restricciones no negatividad \n",
        "X_fim1 , X_fim2 , X_fim3 , X_fim4 , X_fim5 , X_fij1 , X_fij2 , X_fij3 , X_fij4 , X_fiv1 , X_fiv2 , X_fiv3 , X_fis1 , X_fis2 , X_fid1 , X_ifm1 , X_ifm2 , X_ifm3 , X_ifm4 , X_ifm5 , X_ifj1 , X_ifj2 , X_ifj3 , X_ifj4 , X_ifv1 , X_ifv2 , X_ifv3 , X_ifs1 , X_ifs2 , X_ifd1 >= 0\n"
      ],
      "metadata": {
        "id": "kecH_marHZgn"
      }
    },
    {
      "cell_type": "code",
      "source": [
        "# Código para cargar las restricciones\n",
        "arr_pers_b = cvx.Parameter((40,1))\n",
        "\n",
        "# Ruta de las restricciones o limites de cama por día \n",
        "ruta_2 = \"https://docs.google.com/spreadsheets/d/e/2PACX-1vQ55C9H_m9UVazqpfJAUEXdLzjj3_b3zfGQWjVj4JrQEpX78i7rHuntMMjEBXnpIhCOj0leKYDKcULN/pub?output=csv\"\n",
        "\n",
        "# Carga del conjunto de datos a partir de la ruta de restricciones\n",
        "arr_pers_b= np.loadtxt(ruta_2, delimiter=\",\", dtype=float).reshape((40,1))\n",
        "\n",
        "# Imprimir el limite de camas por día en cada país\n",
        "print(\"Las restricciones son: \\n\", arr_pers_b, \"\\n\")\n"
      ],
      "metadata": {
        "id": "Ck_QZVgp4iBm",
        "colab": {
          "base_uri": "https://localhost:8080/"
        },
        "outputId": "92cfef02-3f2c-46a5-f6c3-7576c07a6d87"
      },
      "execution_count": null,
      "outputs": [
        {
          "output_type": "stream",
          "name": "stdout",
          "text": [
            "Las restricciones son: \n",
            " [[14027.]\n",
            " [14027.]\n",
            " [14027.]\n",
            " [14027.]\n",
            " [14027.]\n",
            " [13859.]\n",
            " [13859.]\n",
            " [13859.]\n",
            " [13859.]\n",
            " [13859.]\n",
            " [    0.]\n",
            " [    0.]\n",
            " [    0.]\n",
            " [    0.]\n",
            " [    0.]\n",
            " [    0.]\n",
            " [    0.]\n",
            " [    0.]\n",
            " [    0.]\n",
            " [    0.]\n",
            " [    0.]\n",
            " [    0.]\n",
            " [    0.]\n",
            " [    0.]\n",
            " [    0.]\n",
            " [    0.]\n",
            " [    0.]\n",
            " [    0.]\n",
            " [    0.]\n",
            " [    0.]\n",
            " [    0.]\n",
            " [    0.]\n",
            " [    0.]\n",
            " [    0.]\n",
            " [    0.]\n",
            " [    0.]\n",
            " [    0.]\n",
            " [    0.]\n",
            " [    0.]\n",
            " [    0.]] \n",
            "\n"
          ]
        }
      ]
    },
    {
      "cell_type": "code",
      "source": [
        "# Código para plantear inecuaciones de las restricciones\n",
        "arr_restricciones_día = [arr_pers_A @ arr_pers_x <= arr_pers_b]\n"
      ],
      "metadata": {
        "id": "ad05OTP34-rq"
      },
      "execution_count": null,
      "outputs": []
    },
    {
      "cell_type": "markdown",
      "source": [
        "# Estructuración del problema"
      ],
      "metadata": {
        "id": "mapOEaHp4spo"
      }
    },
    {
      "cell_type": "code",
      "source": [
        "#Código para estructurar el problema\n",
        "prob_turismo_pers = cvx.Problem(obj_turismo, arr_restricciones_día)\n"
      ],
      "metadata": {
        "id": "_PP37Uwk4zEH"
      },
      "execution_count": null,
      "outputs": []
    },
    {
      "cell_type": "markdown",
      "source": [
        "# Solución del problema"
      ],
      "metadata": {
        "id": "oZ-WyfnK5b0q"
      }
    },
    {
      "cell_type": "code",
      "source": [
        "# Código para solucionar el problema\n",
        "prob_turismo_pers.solve() \n",
        "#Imprimir el estado de la solucion \n",
        "print(\"Estado de la solución matricial:\", prob_turismo_pers.status)\n"
      ],
      "metadata": {
        "id": "XcEAnYeN5ghW",
        "colab": {
          "base_uri": "https://localhost:8080/"
        },
        "outputId": "3f1c82dc-5d32-4ca4-bf09-2914043feda9"
      },
      "execution_count": null,
      "outputs": [
        {
          "output_type": "stream",
          "name": "stdout",
          "text": [
            "Estado de la solución matricial: optimal\n"
          ]
        }
      ]
    },
    {
      "cell_type": "markdown",
      "source": [
        "# Resultados\n",
        "\n",
        "Muestre el valor óptimo de la función objetivo y los valores óptimos de las variables de decisión, junto con sus unidades."
      ],
      "metadata": {
        "id": "DVM2YTa85uAL"
      }
    },
    {
      "cell_type": "code",
      "source": [
        "# Código para mostrar los resultados\n",
        "print(\"Valor óptimo de la función objetivo matricial:\", int(prob_turismo_pers.value))\n",
        "\n",
        "print(\"Valores óptimos de las variables de decisión matricial:\", \n",
        "      int(arr_pers_x[0].value), int(arr_pers_x[1].value), \n",
        "      int(arr_pers_x[2].value), int(arr_pers_x[3].value), int(arr_pers_x[4].value), \n",
        "      int(arr_pers_x[5].value), int(arr_pers_x[6].value), int(arr_pers_x[7].value), \n",
        "      int(arr_pers_x[8].value), int(arr_pers_x[9].value), int(arr_pers_x[10].value), \n",
        "      int(arr_pers_x[11].value), int(arr_pers_x[12].value), int(arr_pers_x[13].value), \n",
        "      int(arr_pers_x[14].value), int(arr_pers_x[15].value), int(arr_pers_x[16].value), \n",
        "      int(arr_pers_x[17].value), int(arr_pers_x[18].value), int(arr_pers_x[19].value), \n",
        "      int(arr_pers_x[20].value), int(arr_pers_x[21].value), int(arr_pers_x[22].value),\n",
        "      int(arr_pers_x[23].value), int(arr_pers_x[24].value), int(arr_pers_x[25].value),\n",
        "      int(arr_pers_x[26].value), int(arr_pers_x[27].value), int(arr_pers_x[28].value), \n",
        "      int(arr_pers_x[29].value),\"\\n\")\n",
        "\n"
      ],
      "metadata": {
        "id": "QMHUuOex5w-T",
        "colab": {
          "base_uri": "https://localhost:8080/"
        },
        "outputId": "6af3f36d-7bea-4aea-a2b2-217b0138521d"
      },
      "execution_count": null,
      "outputs": [
        {
          "output_type": "stream",
          "name": "stdout",
          "text": [
            "Valor óptimo de la función objetivo matricial: 139429\n",
            "Valores óptimos de las variables de decisión matricial: 14026 0 0 0 0 14026 0 0 0 14026 0 0 14026 0 14026 13858 0 0 0 0 13858 0 0 0 13858 0 0 13858 0 13858 \n",
            "\n"
          ]
        }
      ]
    },
    {
      "cell_type": "markdown",
      "source": [
        "# Análisis de los resultados"
      ],
      "metadata": {
        "id": "wRsqygCu52yA"
      }
    },
    {
      "cell_type": "markdown",
      "source": [
        "\n",
        "A partir de los resultados se puede concluir que el problema del turismo que se planteó entre Francia e Italia para 5 días obtendrá su valor optimo de 139.429 personas si: \n",
        "\n",
        "Las personas que viajan de francia a Italia el primer día (miercoles) y se quedan un día son 14.026, debido a que este es el numero maximo de camas disponibles ese primer día. Teniendo en cuenta que solo se quedan 1 día estas personas en Italia, las camas van a estar disponibles en su totalidad el día Jueves, por este motivo el valor de personas que llegan el Jueves va a tener que ser 14.026 y así con el viernes, sabado y domingo debido a que cada día van a ir desocupando las camas. \n",
        "\n",
        "Por otro lado, Las personas que viajan de Italia a Francia el primer día (miercoles) y se quedan un día son 13.858, debido a que este es el numero maximo de camas disponibles ese primer día. Teniendo en cuenta que solo se quedan 1 día estas personas en Francia, las camas van a estar disponibles en su totalidad el día Jueves, por este motivo el valor de personas que llegan el Jueves va a tener que ser 13.858 y así con el viernes, sabado y domingo debido a que cada día van a ir desocupando las camas. \n",
        "\n"
      ],
      "metadata": {
        "id": "3MOWkWhO57Q4"
      }
    },
    {
      "cell_type": "markdown",
      "source": [
        "# Fuentes de datos"
      ],
      "metadata": {
        "id": "ZniPABWy6Fn6"
      }
    },
    {
      "cell_type": "markdown",
      "source": [
        "Base de datos de oferta de camas anual \n",
        "https://ec.europa.eu/eurostat/databrowser/bookmark/4086d38b-fdd8-4311-b45e-c5095ed9b490?lang=en\n"
      ],
      "metadata": {
        "id": "S5DNUTto6IUw"
      }
    }
  ]
}