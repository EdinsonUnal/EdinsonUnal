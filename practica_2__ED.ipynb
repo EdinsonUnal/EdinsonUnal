{
  "nbformat": 4,
  "nbformat_minor": 0,
  "metadata": {
    "colab": {
      "provenance": [],
      "include_colab_link": true
    },
    "kernelspec": {
      "name": "python3",
      "display_name": "Python 3"
    },
    "language_info": {
      "name": "python"
    }
  },
  "cells": [
    {
      "cell_type": "markdown",
      "metadata": {
        "id": "view-in-github",
        "colab_type": "text"
      },
      "source": [
        "<a href=\"https://colab.research.google.com/github/edinsonescobarunal/EdinsonUnal/blob/main/practica_2__ED.ipynb\" target=\"_parent\"><img src=\"https://colab.research.google.com/assets/colab-badge.svg\" alt=\"Open In Colab\"/></a>"
      ]
    },
    {
      "cell_type": "markdown",
      "source": [
        "# **Practica 1**"
      ],
      "metadata": {
        "id": "6TKXJepJdK3r"
      }
    },
    {
      "cell_type": "markdown",
      "source": [
        "# Clase Direccion\n",
        "\n"
      ],
      "metadata": {
        "id": "3yW8M6Yh3wYj"
      }
    },
    {
      "cell_type": "code",
      "execution_count": 1,
      "metadata": {
        "id": "VAEHqaVuyx6t"
      },
      "outputs": [],
      "source": [
        "class Direccion:\n",
        "    def __init__(self, *direccion):\n",
        "        self._direccion = direccion\n",
        "\n",
        "    def direccion(self):\n",
        "        return {\n",
        "          'calle':self._direccion[0],\n",
        "          'no_calle':self._direccion[1],\n",
        "          'nomenclatura':self._direccion[2],\n",
        "          'barrio':self._direccion[3],\n",
        "          'ciudad':self._direccion[4]\n",
        "        }\n",
        "\n",
        "    @property\n",
        "    def calle(self):\n",
        "      return self._direccion[0]\n",
        "\n",
        "    @property\n",
        "    def no_calle(self):\n",
        "      return self._direccion[1]\n",
        "\n",
        "    @property\n",
        "    def nomenclatura(self):\n",
        "      return self._direccion[2]\n",
        "\n",
        "    @property\n",
        "    def barrio(self):\n",
        "      return self._direccion[3]\n",
        "\n",
        "    @property\n",
        "    def ciudad(self):\n",
        "      return self._direccion[4]\n",
        "\n",
        "    def to_string(self):\n",
        "      print(self._direccion)"
      ]
    },
    {
      "cell_type": "markdown",
      "source": [
        "# Clase Fecha"
      ],
      "metadata": {
        "id": "HvunMb-24BdI"
      }
    },
    {
      "cell_type": "code",
      "source": [
        "class Fecha:\n",
        "    def __init__(self, dia, mes, año):\n",
        "        self._dia = dia\n",
        "        self._mes = mes\n",
        "        self._año = año\n",
        "\n",
        "    def fecha(self):\n",
        "        return {\n",
        "            'dia':self._dia,\n",
        "            'mes':self._mes,\n",
        "            'año':self._año\n",
        "        }\n",
        "\n",
        "    @property\n",
        "    def dia(self):\n",
        "      return self._dia\n",
        "\n",
        "    @property\n",
        "    def mes(self):\n",
        "      return self._mes\n",
        "\n",
        "    @property\n",
        "    def año(self):\n",
        "      return self._año\n",
        "\n",
        "    @dia.setter\n",
        "    def dia(self, dia):\n",
        "      self._dia = dia\n",
        "\n",
        "    @mes.setter\n",
        "    def mes(self, mes):\n",
        "      self._mes = mes\n",
        "\n",
        "    @año.setter\n",
        "    def año(self, año):\n",
        "      self._año = año\n",
        "\n",
        "    def to_string(self):\n",
        "      print(f'{self._dia}/{self._mes}/{self._año}')"
      ],
      "metadata": {
        "id": "4rhVuT464Xjg"
      },
      "execution_count": 2,
      "outputs": []
    },
    {
      "cell_type": "markdown",
      "source": [
        "# Clase Usuario"
      ],
      "metadata": {
        "id": "QhO9Xgig93or"
      }
    },
    {
      "cell_type": "code",
      "source": [
        "class Usuario:\n",
        "    def __init__(self, id, nombre, fecha_nac, ciudad_nac, dir, tel, email):\n",
        "        self._id = id\n",
        "        self._nombre = nombre\n",
        "        self._fecha_nac = Fecha(*fecha_nac)  # Llama a la clase Fecha con los argumentos de fecha_nac\n",
        "        self._ciudad_nac = ciudad_nac\n",
        "        self._dir = Direccion(*dir)  # Llama a la clase Direccion con el argumento direccion\n",
        "        self._tel = tel\n",
        "        self._email = email\n",
        "\n",
        "    def usuario(self):\n",
        "        return {\n",
        "            'id':self._id,\n",
        "            'nombre':self._nombre,\n",
        "            'fecha_nac':self._fecha_nac.fecha(),\n",
        "            'ciudad_nac':self._ciudad_nac,\n",
        "            'direccion':self._dir.direccion(),\n",
        "            'telefono':self._tel,\n",
        "            'email':self._email\n",
        "        }\n",
        "\n",
        "    @property\n",
        "    def id(self):\n",
        "      return self._id\n",
        "\n",
        "    @property\n",
        "    def nombre(self):\n",
        "      return self._nombre\n",
        "\n",
        "    @property\n",
        "    def fecha_nac(self):\n",
        "      return self._fecha_nac\n",
        "\n",
        "    @property\n",
        "    def ciudad_nac(self):\n",
        "      return self._ciudad_nac\n",
        "\n",
        "    @property\n",
        "    def direccion(self):\n",
        "      return self._dir\n",
        "\n",
        "    @property\n",
        "    def telefono(self):\n",
        "      return self._tel\n",
        "\n",
        "    @property\n",
        "    def email(self):\n",
        "      return self._email\n",
        "\n",
        "    @id.setter\n",
        "    def id(self, id):\n",
        "      self._id = id\n",
        "\n",
        "    @nombre.setter\n",
        "    def nombre(self, nombre):\n",
        "      self._nombre = nombre\n",
        "\n",
        "    @fecha_nac.setter\n",
        "    def fecha_nac(self, fecha_nac):\n",
        "      self._fecha_nac = fecha_nac.fecha()\n",
        "\n",
        "    @ciudad_nac.setter\n",
        "    def ciudad_nac(self, ciudad_nac):\n",
        "      self._ciudad_nac = ciudad_nac\n",
        "\n",
        "    @direccion.setter\n",
        "    def direccion(self, direccion):\n",
        "      self._dir = dir.direccion()\n",
        "\n",
        "    @telefono.setter\n",
        "    def telefono(self, telefono):\n",
        "      self._telefono = telefono\n",
        "\n",
        "    @email.setter\n",
        "    def email(self, email):\n",
        "      self._email = email\n",
        "\n",
        "    def to_string(self):\n",
        "      print(f'Usuario: Id: {self._id}, Nombre: {self._nombre}, Fecha de nacimiento: {self._fecha_nac.fecha()}, Ciudad de nacimiento: {self._ciudad_nac}, Direccion: {self._dir.direccion()}, Telefono: {self._tel}, Email: {self._email}')"
      ],
      "metadata": {
        "id": "0oYlRTUh96Rj"
      },
      "execution_count": 3,
      "outputs": []
    },
    {
      "cell_type": "markdown",
      "source": [
        "# Clase Registro"
      ],
      "metadata": {
        "id": "EHb2wTJyOHd-"
      }
    },
    {
      "cell_type": "code",
      "source": [
        "class Registro:\n",
        "    def __init__(self, archivo='usuarios.txt'):\n",
        "        self._archivo = archivo\n",
        "        self._usuarios = []\n",
        "\n",
        "    def cargar_usuarios(self):\n",
        "        try:\n",
        "            with open(self._archivo, 'r') as file:\n",
        "                for line in file:\n",
        "                    datos = line.strip().split(',')\n",
        "                    if len(datos) == 8:\n",
        "                        id, nombre, dia, mes, año, ciudad_nac, calle, no_calle, nomenclatura, barrio, ciudad, tel, email = datos\n",
        "                        fecha_nac = (int(dia), int(mes), int(año))\n",
        "                        direccion = (calle, no_calle, nomenclatura, barrio, ciudad)\n",
        "                        usuario = Usuario(id, nombre, fecha_nac, ciudad_nac, direccion, tel, email)\n",
        "                        self._usuarios.append(usuario)\n",
        "        except FileNotFoundError:\n",
        "            print(f\"El archivo '{self._archivo}' no existe. Se creará uno nuevo.\")\n",
        "\n",
        "    def guardar_usuarios(self):\n",
        "        with open(self._archivo, 'w') as file:\n",
        "            for usuario in self._usuarios:\n",
        "                datos = [\n",
        "                    usuario.id,\n",
        "                    usuario.nombre,\n",
        "                    usuario.fecha_nac.dia,\n",
        "                    usuario.fecha_nac.mes,\n",
        "                    usuario.fecha_nac.año,\n",
        "                    usuario.ciudad_nac,\n",
        "                    usuario.direccion.calle,\n",
        "                    usuario.direccion.no_calle,\n",
        "                    usuario.direccion.nomenclatura,\n",
        "                    usuario.direccion.barrio,\n",
        "                    usuario.direccion.ciudad,\n",
        "                    usuario.telefono,\n",
        "                    usuario.email\n",
        "                ]\n",
        "                linea = ','.join(map(str, datos))\n",
        "                file.write(linea + '\\n')\n",
        "\n",
        "    def agregar_usuario(self, usuario):\n",
        "        self._usuarios.append(usuario)\n",
        "        self.guardar_usuarios()\n",
        "\n",
        "    def buscar_usuario(self, id_usuario):\n",
        "        for usuario in self._usuarios:\n",
        "            if usuario.id == id_usuario:\n",
        "                return usuario\n",
        "        return None\n",
        "\n",
        "    def eliminar_usuario(self, id_usuario):\n",
        "        usuario = self.buscar_usuario(id_usuario)\n",
        "        if usuario:\n",
        "            self._usuarios.remove(usuario)\n",
        "            self.guardar_usuarios()\n",
        "            print(f\"Usuario con ID {id_usuario} eliminado.\")\n",
        "        else:\n",
        "            print(f\"Usuario con ID {id_usuario} no encontrado.\")\n",
        "        print()\n",
        "\n",
        "if __name__ == \"__main__\":\n",
        "    registro = Registro()\n",
        "\n",
        "    # Cargar usuarios desde el archivo\n",
        "    registro.cargar_usuarios()\n",
        "\n",
        "    # Agregar un nuevo usuario\n",
        "    nuevo_usuario_1 = Usuario(\"10\", \"laura\", (5, 7, 2003), \"medellin\", (\"Nueva Calle\", \"123\", \"Nomenclatura\", \"Nuevo Barrio\", \"Nueva Ciudad\"), \"123456789\", \"nuevo@correo.com\")\n",
        "    nuevo_usuario_2 = Usuario(\"2\", \"alex\", (5, 7, 2003), \"bucaramanga\", (\"Nueva Calle\", \"123\", \"Nomenclatura\", \"Nuevo Barrio\", \"Nueva Ciudad\"), \"123456789\", \"nuevo@correo.com\")\n",
        "    nuevo_usuario_3 = Usuario(\"3\", \"marco\", (5, 7, 2003), \"medellin\", (\"Nueva Calle\", \"123\", \"Nomenclatura\", \"Nuevo Barrio\", \"Nueva Ciudad\"), \"123456789\", \"nuevo@correo.com\")\n",
        "    nuevo_usuario_4 = Usuario(\"4\", \"kevin\", (5, 7, 2003), \"medellin\", (\"Nueva Calle\", \"123\", \"Nomenclatura\", \"Nuevo Barrio\", \"Nueva Ciudad\"), \"123456789\", \"nuevo@correo.com\")\n",
        "    nuevo_usuario_5 = Usuario(\"5\", \"carlos\", (5, 7, 2003), \"medellin\", (\"Nueva Calle\", \"123\", \"Nomenclatura\", \"Nuevo Barrio\", \"Nueva Ciudad\"), \"123456789\", \"nuevo@correo.com\")\n",
        "    nuevo_usuario_6 = Usuario(\"6\", \"edinson\", (5, 7, 2003), \"medellin\", (\"Nueva Calle\", \"123\", \"Nomenclatura\", \"Nuevo Barrio\", \"Nueva Ciudad\"), \"123456789\", \"nuevo@correo.com\")\n",
        "    nuevo_usuario_7 = Usuario(\"7\", \"daniel\", (5, 7, 2003), \"medellin\", (\"Nueva Calle\", \"123\", \"Nomenclatura\", \"Nuevo Barrio\", \"Nueva Ciudad\"), \"123456789\", \"nuevo@correo.com\")\n",
        "    nuevo_usuario_8 = Usuario(\"1\", \"daniel\", (5, 7, 2003), \"medellin\", (\"Nueva Calle\", \"123\", \"Nomenclatura\", \"Nuevo Barrio\", \"Nueva Ciudad\"), \"123456789\", \"nuevo@correo.com\")\n",
        "\n",
        "\n",
        "    registro.agregar_usuario(nuevo_usuario_1)\n",
        "    registro.agregar_usuario(nuevo_usuario_2)\n",
        "    registro.agregar_usuario(nuevo_usuario_3)\n",
        "    registro.agregar_usuario(nuevo_usuario_4)\n",
        "    registro.agregar_usuario(nuevo_usuario_5)\n",
        "    registro.agregar_usuario(nuevo_usuario_6)\n",
        "    registro.agregar_usuario(nuevo_usuario_7)\n",
        "    registro.agregar_usuario(nuevo_usuario_8)\n",
        "\n",
        "    # Buscar un usuario existente y uno no existente\n",
        "    usuario_existente = registro.buscar_usuario(\"5\")\n",
        "    usuario_no_existente = registro.buscar_usuario(\"10\")\n",
        "\n",
        "    if usuario_existente:\n",
        "        print(\"Usuario existente encontrado:\", usuario_existente.nombre)\n",
        "    else:\n",
        "        print(\"Usuario existente no encontrado.\")\n",
        "    print()\n",
        "\n",
        "    if usuario_no_existente:\n",
        "        print(\"Usuario no existente encontrado:\", usuario_no_existente.nombre)\n",
        "    else:\n",
        "        print(\"Usuario no existente no encontrado.\")\n",
        "    print()\n",
        "    # Eliminar un usuario del registro\n",
        "    registro.eliminar_usuario('1')\n",
        "    registro.eliminar_usuario('1')\n",
        "\n",
        "    # Imprimir la lista de usuarios en el registro\n",
        "    print(\"Usuarios en el registro:\")\n",
        "    for usuario in registro._usuarios:\n",
        "        usuario.to_string()"
      ],
      "metadata": {
        "id": "893-sQiTOM2-"
      },
      "execution_count": null,
      "outputs": []
    },
    {
      "cell_type": "markdown",
      "source": [
        "# **Practica 2**"
      ],
      "metadata": {
        "id": "9hUvfnfmdcQ5"
      }
    }
  ]
}