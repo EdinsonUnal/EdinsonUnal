{
  "cells": [
    {
      "cell_type": "markdown",
      "metadata": {
        "id": "view-in-github",
        "colab_type": "text"
      },
      "source": [
        "<a href=\"https://colab.research.google.com/github/edinsonescobarunal/EdinsonUnal/blob/main/ESCOBARea_SI06_v20230523.ipynb\" target=\"_parent\"><img src=\"https://colab.research.google.com/assets/colab-badge.svg\" alt=\"Open In Colab\"/></a>"
      ]
    },
    {
      "cell_type": "markdown",
      "source": [
        "### Asume que eres un profesor dictando un curso de optimización lineal. Plantea un ejercicio sencillo: **problema de la asignación de recursos.** Inicia la respuesta con la expresión: «Respuesta para **Edinson Escobar**»."
      ],
      "metadata": {
        "id": "HBiktNHqVEml"
      }
    },
    {
      "cell_type": "markdown",
      "source": [
        "![](https://drive.google.com/uc?id=12Pq_mW3p6t38Dti4TmCF5-ND16RKRAQ0)"
      ],
      "metadata": {
        "id": "Oy31eBF5TTSf"
      }
    },
    {
      "cell_type": "markdown",
      "source": [
        "![](https://drive.google.com/uc?id=1G0DcscpI5fm94CTNiYQIoEexEaF3xjDu)"
      ],
      "metadata": {
        "id": "1rPcBY96VjFU"
      }
    },
    {
      "cell_type": "markdown",
      "source": [
        "![](https://drive.google.com/uc?id=1fSVq5FV0smcjnF1y9bp5ZLnKnPVWoh1r)"
      ],
      "metadata": {
        "id": "8HRB0TGgWYgQ"
      }
    },
    {
      "cell_type": "markdown",
      "source": [
        "# **Soluion del ejercicio propuesto por la IA**"
      ],
      "metadata": {
        "id": "LJjpoX3yW96c"
      }
    },
    {
      "cell_type": "code",
      "source": [
        "import cvxpy as cp\n",
        "import numpy as np\n",
        "\n",
        "# Definición de los datos del problema\n",
        "c = np.array([1, 1, 1])  # Coeficientes de la función objetivo\n",
        "\n",
        "# Matriz de coeficientes de las restricciones\n",
        "A = np.array([[2, 1, 3],[3, 2, 2],[1, 3, 2]])  \n",
        "\n",
        "b = np.array([7, 5, 6])  # Vector de términos independientes de las restricciones\n",
        "\n",
        "# Definición de las variables de decisión\n",
        "x = cp.Variable(3, nonneg=True)  # x, y, z >= 0\n",
        "\n",
        "# Definición del problema de optimización\n",
        "objective = cp.Maximize(c @ x)  # Maximizar la función objetivo\n",
        "constraints = [A @ x <= b]  # Restricciones de disponibilidad\n",
        "\n",
        "problem = cp.Problem(objective, constraints)\n",
        "\n",
        "# Resolución del problema\n",
        "problem.solve()\n",
        "\n",
        "# Obtención de los resultados\n",
        "print(\"Estado del problema:\", problem.status)\n",
        "print(\"Valor óptimo de la función objetivo:\", problem.value)\n",
        "print(\"Asignación óptima de recursos:\")\n",
        "print(\"x =\", x[0].value)\n",
        "print(\"y =\", x[1].value)\n",
        "print(\"z =\", x[2].value)"
      ],
      "metadata": {
        "id": "Yutic8orXWDO"
      },
      "execution_count": null,
      "outputs": []
    }
  ],
  "metadata": {
    "colab": {
      "provenance": [],
      "toc_visible": true,
      "mount_file_id": "15g_piebb3VgcdvgB8AzH2KlbwAyDUr5m",
      "authorship_tag": "ABX9TyMkPvEDR0gvLS3jVxwBPGtf",
      "include_colab_link": true
    },
    "kernelspec": {
      "display_name": "Python 3",
      "name": "python3"
    },
    "language_info": {
      "name": "python"
    }
  },
  "nbformat": 4,
  "nbformat_minor": 0
}