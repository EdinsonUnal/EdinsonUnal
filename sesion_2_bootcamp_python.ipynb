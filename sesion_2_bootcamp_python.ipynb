{
  "nbformat": 4,
  "nbformat_minor": 0,
  "metadata": {
    "colab": {
      "provenance": [],
      "authorship_tag": "ABX9TyMG+jBHOzsaT55VWh1Ct8Rw",
      "include_colab_link": true
    },
    "kernelspec": {
      "name": "python3",
      "display_name": "Python 3"
    },
    "language_info": {
      "name": "python"
    }
  },
  "cells": [
    {
      "cell_type": "markdown",
      "metadata": {
        "id": "view-in-github",
        "colab_type": "text"
      },
      "source": [
        "<a href=\"https://colab.research.google.com/github/edinsonescobarunal/EdinsonUnal/blob/main/sesion_2_bootcamp_python.ipynb\" target=\"_parent\"><img src=\"https://colab.research.google.com/assets/colab-badge.svg\" alt=\"Open In Colab\"/></a>"
      ]
    },
    {
      "cell_type": "markdown",
      "source": [
        "# Variables"
      ],
      "metadata": {
        "id": "jA_wbyq4mK1e"
      }
    },
    {
      "cell_type": "code",
      "execution_count": null,
      "metadata": {
        "colab": {
          "base_uri": "https://localhost:8080/"
        },
        "id": "oSdFFQKLloDa",
        "outputId": "37134d06-ec70-4cc1-d237-a149bf2ca7f8"
      },
      "outputs": [
        {
          "output_type": "stream",
          "name": "stdout",
          "text": [
            "coding up my future\n"
          ]
        }
      ],
      "source": [
        "nombre = 'coding up my future'\n",
        "print(nombre)"
      ]
    },
    {
      "cell_type": "code",
      "source": [
        "edad = 1\n",
        "print(edad)"
      ],
      "metadata": {
        "colab": {
          "base_uri": "https://localhost:8080/"
        },
        "id": "Ob7paGJsnZNi",
        "outputId": "ba3774b5-5432-4714-a94b-71f92a6dc901"
      },
      "execution_count": null,
      "outputs": [
        {
          "output_type": "stream",
          "name": "stdout",
          "text": [
            "1\n"
          ]
        }
      ]
    },
    {
      "cell_type": "markdown",
      "source": [
        "# Variables por referencias\n"
      ],
      "metadata": {
        "id": "QjgbGU4apa2B"
      }
    },
    {
      "cell_type": "code",
      "source": [
        "nombre: str = 'coding up my future'\n",
        "edad: int = 12"
      ],
      "metadata": {
        "id": "oB5QXI7rphAh"
      },
      "execution_count": null,
      "outputs": []
    },
    {
      "cell_type": "markdown",
      "source": [
        "# Constructor"
      ],
      "metadata": {
        "id": "RCsJzBaQrbnB"
      }
    },
    {
      "cell_type": "code",
      "source": [
        "edad: int = int('1')\n",
        "edad"
      ],
      "metadata": {
        "colab": {
          "base_uri": "https://localhost:8080/"
        },
        "id": "HnNrjDbJrfqh",
        "outputId": "f93f365d-172b-4e28-848f-3142aaa94e9e"
      },
      "execution_count": null,
      "outputs": [
        {
          "output_type": "execute_result",
          "data": {
            "text/plain": [
              "1"
            ]
          },
          "metadata": {},
          "execution_count": 8
        }
      ]
    },
    {
      "cell_type": "markdown",
      "source": [
        "# Type"
      ],
      "metadata": {
        "id": "uCNJLaz7ueZy"
      }
    },
    {
      "cell_type": "code",
      "source": [
        "print(type(edad))\n"
      ],
      "metadata": {
        "colab": {
          "base_uri": "https://localhost:8080/"
        },
        "id": "5PbZ07-juh35",
        "outputId": "65d43b00-8de8-4b2a-c3a2-86a2c67092b7"
      },
      "execution_count": null,
      "outputs": [
        {
          "output_type": "stream",
          "name": "stdout",
          "text": [
            "<class 'int'>\n"
          ]
        }
      ]
    },
    {
      "cell_type": "markdown",
      "source": [
        "# ISINSTANCEOF"
      ],
      "metadata": {
        "id": "oHap-q1tu45a"
      }
    },
    {
      "cell_type": "code",
      "source": [
        "# forma simple\n",
        "print(isinstance(edad, str))\n",
        "\n",
        "\n",
        "#forma multiple\n",
        "print(isinstance(edad, (str, float)))\n",
        "print(isinstance(edad, (str, int)))"
      ],
      "metadata": {
        "colab": {
          "base_uri": "https://localhost:8080/"
        },
        "id": "EpmC6UdWu_vD",
        "outputId": "61000581-fc91-4e48-9e1b-3b85daf6bd9c"
      },
      "execution_count": null,
      "outputs": [
        {
          "output_type": "stream",
          "name": "stdout",
          "text": [
            "False\n",
            "False\n",
            "True\n"
          ]
        }
      ]
    },
    {
      "cell_type": "markdown",
      "source": [
        "# HARCODEADO"
      ],
      "metadata": {
        "id": "bMKAz6SZwCTB"
      }
    },
    {
      "cell_type": "code",
      "source": [
        "1"
      ],
      "metadata": {
        "colab": {
          "base_uri": "https://localhost:8080/"
        },
        "id": "ke5JLE52wHet",
        "outputId": "3f328ee3-26e2-40bf-a6cc-ce12707307f3"
      },
      "execution_count": null,
      "outputs": [
        {
          "output_type": "execute_result",
          "data": {
            "text/plain": [
              "1"
            ]
          },
          "metadata": {},
          "execution_count": 14
        }
      ]
    },
    {
      "cell_type": "markdown",
      "source": [
        "# Imprimir"
      ],
      "metadata": {
        "id": "A6pA6rhvwVtW"
      }
    },
    {
      "cell_type": "code",
      "source": [
        "# imprimir un harcodeado\n",
        "print('coding up my future')\n",
        "print(1, 2, 3)"
      ],
      "metadata": {
        "colab": {
          "base_uri": "https://localhost:8080/"
        },
        "id": "biyQmLDnwZSH",
        "outputId": "b6c927ea-8ca2-4d22-a883-2686d2ca5203"
      },
      "execution_count": null,
      "outputs": [
        {
          "output_type": "stream",
          "name": "stdout",
          "text": [
            "coding up my future\n",
            "1 2 3\n"
          ]
        }
      ]
    },
    {
      "cell_type": "code",
      "source": [
        "print(1, 2, 3, sep='@')\n",
        "print(1, 2, 3, sep='\\n')"
      ],
      "metadata": {
        "colab": {
          "base_uri": "https://localhost:8080/"
        },
        "id": "qu5jLd1Ax1EV",
        "outputId": "f2c4ad3b-36ce-49ed-b800-fca4136b69e5"
      },
      "execution_count": null,
      "outputs": [
        {
          "output_type": "stream",
          "name": "stdout",
          "text": [
            "1@2@3\n",
            "1\n",
            "2\n",
            "3\n"
          ]
        }
      ]
    },
    {
      "cell_type": "code",
      "source": [
        "print(1, 2, 3, sep='-', end='termine!!!')"
      ],
      "metadata": {
        "colab": {
          "base_uri": "https://localhost:8080/"
        },
        "id": "RbFM9-1dyQaF",
        "outputId": "3cf2a0b8-877c-4035-982d-f38cedf2f718"
      },
      "execution_count": null,
      "outputs": [
        {
          "output_type": "stream",
          "name": "stdout",
          "text": [
            "1-2-3termine!!!"
          ]
        }
      ]
    },
    {
      "cell_type": "code",
      "source": [],
      "metadata": {
        "id": "IGVP9mq-zSW6"
      },
      "execution_count": null,
      "outputs": []
    }
  ]
}